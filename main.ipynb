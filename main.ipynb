{
 "cells": [
  {
   "cell_type": "code",
   "execution_count": null,
   "id": "b15591fd",
   "metadata": {},
   "outputs": [],
   "source": [
    "print('helo')"
   ]
  }
 ],
 "metadata": {
  "kernelspec": {
   "display_name": ".flappybird (3.11.4)",
   "language": "python",
   "name": "python3"
  },
  "language_info": {
   "name": "python",
   "version": "3.11.4"
  }
 },
 "nbformat": 4,
 "nbformat_minor": 5
}
